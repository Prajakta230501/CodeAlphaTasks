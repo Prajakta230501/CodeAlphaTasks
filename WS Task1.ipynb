{
 "cells": [
  {
   "cell_type": "markdown",
   "id": "10cda676-6865-403a-8383-33acdf7b100c",
   "metadata": {},
   "source": [
    "# CODE ALPHA TASK 1 - Web Scraping\n",
    "\n",
    "## Task Overview:\n",
    "The internet is filled with excellent (and free) public datasets, but the ability to find and extract relevant data yourself is a crucial skill for any data analyst. Using Python, you can leverage tools like **BeautifulSoup** or **Scrapy** to crawl the web for valuable data.\n",
    "\n",
    "In this task, we’ll use Python's `requests` and `BeautifulSoup` libraries to scrape data (book titles and prices) from a sample website: [books.toscrape.com](http://books.toscrape.com).\n"
   ]
  },
  {
   "cell_type": "code",
   "execution_count": 4,
   "id": "e964a734-a262-4397-a1c7-7270e979490f",
   "metadata": {},
   "outputs": [],
   "source": [
    "import requests\n",
    "from bs4 import BeautifulSoup\n",
    "import pandas as pd\n"
   ]
  },
  {
   "cell_type": "code",
   "execution_count": 5,
   "id": "3de33970-19d3-4614-9783-05ea40c9aafc",
   "metadata": {},
   "outputs": [],
   "source": [
    "url = \"http://books.toscrape.com/\"\n",
    "response = requests.get(url)\n",
    "soup = BeautifulSoup(response.content, \"html.parser\")"
   ]
  },
  {
   "cell_type": "code",
   "execution_count": 6,
   "id": "722d6e17-4ca4-43e8-a2d1-b4185f551490",
   "metadata": {},
   "outputs": [],
   "source": [
    "titles = []\n",
    "prices = []\n",
    "\n",
    "books = soup.find_all(\"article\", class_=\"product_pod\")\n",
    "\n",
    "for book in books:\n",
    "    title = book.h3.a[\"title\"]\n",
    "    price = book.find(\"p\", class_=\"price_color\").text\n",
    "    titles.append(title)\n",
    "    prices.append(price)\n"
   ]
  },
  {
   "cell_type": "code",
   "execution_count": 7,
   "id": "f1669a41-fdb1-437c-8852-0f9835c0f900",
   "metadata": {},
   "outputs": [
    {
     "data": {
      "text/html": [
       "<div>\n",
       "<style scoped>\n",
       "    .dataframe tbody tr th:only-of-type {\n",
       "        vertical-align: middle;\n",
       "    }\n",
       "\n",
       "    .dataframe tbody tr th {\n",
       "        vertical-align: top;\n",
       "    }\n",
       "\n",
       "    .dataframe thead th {\n",
       "        text-align: right;\n",
       "    }\n",
       "</style>\n",
       "<table border=\"1\" class=\"dataframe\">\n",
       "  <thead>\n",
       "    <tr style=\"text-align: right;\">\n",
       "      <th></th>\n",
       "      <th>Book Title</th>\n",
       "      <th>Price</th>\n",
       "    </tr>\n",
       "  </thead>\n",
       "  <tbody>\n",
       "    <tr>\n",
       "      <th>0</th>\n",
       "      <td>A Light in the Attic</td>\n",
       "      <td>£51.77</td>\n",
       "    </tr>\n",
       "    <tr>\n",
       "      <th>1</th>\n",
       "      <td>Tipping the Velvet</td>\n",
       "      <td>£53.74</td>\n",
       "    </tr>\n",
       "    <tr>\n",
       "      <th>2</th>\n",
       "      <td>Soumission</td>\n",
       "      <td>£50.10</td>\n",
       "    </tr>\n",
       "    <tr>\n",
       "      <th>3</th>\n",
       "      <td>Sharp Objects</td>\n",
       "      <td>£47.82</td>\n",
       "    </tr>\n",
       "    <tr>\n",
       "      <th>4</th>\n",
       "      <td>Sapiens: A Brief History of Humankind</td>\n",
       "      <td>£54.23</td>\n",
       "    </tr>\n",
       "  </tbody>\n",
       "</table>\n",
       "</div>"
      ],
      "text/plain": [
       "                              Book Title   Price\n",
       "0                   A Light in the Attic  £51.77\n",
       "1                     Tipping the Velvet  £53.74\n",
       "2                             Soumission  £50.10\n",
       "3                          Sharp Objects  £47.82\n",
       "4  Sapiens: A Brief History of Humankind  £54.23"
      ]
     },
     "execution_count": 7,
     "metadata": {},
     "output_type": "execute_result"
    }
   ],
   "source": [
    "df = pd.DataFrame({\n",
    "    \"Book Title\": titles,\n",
    "    \"Price\": prices\n",
    "})\n",
    "df.head()\n"
   ]
  },
  {
   "cell_type": "code",
   "execution_count": 8,
   "id": "1dd80d8e-094c-4861-841a-6b82d5b4998f",
   "metadata": {},
   "outputs": [
    {
     "name": "stdout",
     "output_type": "stream",
     "text": [
      "✅ Data saved to books_data.csv\n"
     ]
    }
   ],
   "source": [
    "df.to_csv(\"books_data.csv\", index=False)\n",
    "print(\"✅ Data saved to books_data.csv\")\n"
   ]
  },
  {
   "cell_type": "markdown",
   "id": "2eb747f9-ee26-4980-87e7-2e19202d835c",
   "metadata": {},
   "source": [
    "## ✅ Conclusion\n",
    "\n",
    "In this task, we successfully scraped book titles and prices from a live website using Python, stored the data in a CSV file, and visualized the price distribution.\n",
    "\n",
    "> Web scraping is a powerful tool for any data analyst or Python enthusiast. With practice, you can extract structured data from almost any website and build custom datasets for analysis.\n"
   ]
  },
  {
   "cell_type": "code",
   "execution_count": null,
   "id": "fb36f802-f25e-4885-a04d-f7d31e1e567b",
   "metadata": {},
   "outputs": [],
   "source": []
  }
 ],
 "metadata": {
  "kernelspec": {
   "display_name": "Python 3 (ipykernel)",
   "language": "python",
   "name": "python3"
  },
  "language_info": {
   "codemirror_mode": {
    "name": "ipython",
    "version": 3
   },
   "file_extension": ".py",
   "mimetype": "text/x-python",
   "name": "python",
   "nbconvert_exporter": "python",
   "pygments_lexer": "ipython3",
   "version": "3.13.3"
  }
 },
 "nbformat": 4,
 "nbformat_minor": 5
}
